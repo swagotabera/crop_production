{
 "cells": [
  {
   "cell_type": "code",
   "execution_count": 4,
   "metadata": {},
   "outputs": [],
   "source": [
    "import numpy as np\n",
    "import pandas as pd\n",
    "from numpy import loadtxt\n",
    "from numpy import unique\n",
    "from numpy import arange\n",
    "from sklearn.feature_selection import VarianceThreshold\n",
    "from matplotlib import pyplot\n",
    "from math import sqrt\n",
    "import pandas as pd\n",
    "import numpy as np\n",
    "import matplotlib.pyplot as plt\n",
    "\n",
    "from sklearn.model_selection import train_test_split\n",
    "from sklearn.linear_model import Lasso\n",
    "from sklearn import linear_model\n",
    "from sklearn.pipeline import Pipeline\n",
    "from sklearn.metrics import mean_squared_error, r2_score\n",
    "import statsmodels.api as sm\n",
    "from sklearn.svm import SVR\n",
    "from sklearn.tree import DecisionTreeRegressor\n",
    "from sklearn.linear_model import LinearRegression\n",
    "from sklearn.preprocessing import LabelEncoder\n",
    "import scipy.stats as stats\n",
    "from sklearn.impute import SimpleImputer\n",
    "from sklearn.compose import ColumnTransformer\n",
    "from sklearn.preprocessing import OneHotEncoder\n",
    "from sklearn.preprocessing import StandardScaler\n",
    "import seaborn as sns\n",
    "import pickle"
   ]
  },
  {
   "cell_type": "code",
   "execution_count": 5,
   "metadata": {},
   "outputs": [],
   "source": [
    "X_train_Final=pd.read_csv(\"X_train_Final.csv\")\n",
    "X_test_Final=pd.read_csv(\"X_test_Final.csv\")\n",
    "y_train_Final=pd.read_csv(\"y_train_Final.csv\")\n",
    "y_test_Final=pd.read_csv(\"y_test_Final.csv\")\n"
   ]
  },
  {
   "cell_type": "code",
   "execution_count": 6,
   "metadata": {},
   "outputs": [
    {
     "data": {
      "text/plain": [
       "((168551, 7), (168551, 1), (73850, 7), (73850, 1))"
      ]
     },
     "execution_count": 6,
     "metadata": {},
     "output_type": "execute_result"
    }
   ],
   "source": [
    "X_train_Final.shape,y_train_Final.shape,X_test_Final.shape,y_test_Final.shape"
   ]
  },
  {
   "cell_type": "code",
   "execution_count": 7,
   "metadata": {},
   "outputs": [
    {
     "name": "stdout",
     "output_type": "stream",
     "text": [
      "There are 4 categorical variables\n"
     ]
    }
   ],
   "source": [
    "categorical = [var for var in X_train_Final.columns if X_train_Final[var].dtype=='O']\n",
    "print('There are {} categorical variables'.format(len(categorical)))"
   ]
  },
  {
   "cell_type": "code",
   "execution_count": 8,
   "metadata": {},
   "outputs": [
    {
     "name": "stdout",
     "output_type": "stream",
     "text": [
      "There are 3 continous variables\n"
     ]
    }
   ],
   "source": [
    "continous = [var for var in X_train_Final.columns if X_train_Final[var].dtype!='O']\n",
    "print('There are {} continous variables'.format(len(continous)))"
   ]
  },
  {
   "cell_type": "code",
   "execution_count": 9,
   "metadata": {},
   "outputs": [
    {
     "name": "stdout",
     "output_type": "stream",
     "text": [
      "Crop_Year  values:  [2005 2000 2002 2003 2001 2004 2006 2010 2012 2011 2007 2013 2014 1997\n",
      " 2009 1999 1998 2008 2015]\n",
      "\n",
      "There are 1 discrete variables\n"
     ]
    }
   ],
   "source": [
    "# let's visualise the values of the discrete variables\n",
    "discrete = []\n",
    "\n",
    "for var in continous:\n",
    "    if len(X_train_Final[var].unique()) < 20 :\n",
    "        print(var, ' values: ', X_train_Final[var].unique())\n",
    "        discrete.append(var)\n",
    "print()\n",
    "print('There are {} discrete variables'.format(len(discrete)))"
   ]
  },
  {
   "cell_type": "code",
   "execution_count": 10,
   "metadata": {},
   "outputs": [],
   "source": [
    "X_train_Final[discrete] = X_train_Final[discrete].astype('O')"
   ]
  },
  {
   "cell_type": "code",
   "execution_count": 11,
   "metadata": {},
   "outputs": [
    {
     "name": "stdout",
     "output_type": "stream",
     "text": [
      "There are 5 categorical variables\n"
     ]
    }
   ],
   "source": [
    "# Modified categorical variables\n",
    "categorical = [var for var in X_train_Final.columns if X_train_Final[var].dtype=='O']\n",
    "print('There are {} categorical variables'.format(len(categorical)))"
   ]
  },
  {
   "cell_type": "code",
   "execution_count": 12,
   "metadata": {},
   "outputs": [
    {
     "data": {
      "text/plain": [
       "State_Name      District_Name  Crop_Year  Season      Crop      \n",
       "Gujarat         KHEDA          1999       Kharif      Moth          0.000000e+00\n",
       "Madhya Pradesh  RAISEN         2003       Whole Year  Papaya        0.000000e+00\n",
       "                                                      Pome Fruit    0.000000e+00\n",
       "                                                      Tomato        0.000000e+00\n",
       "                RAJGARH        2002       Whole Year  Banana        0.000000e+00\n",
       "                                                                        ...     \n",
       "Kerala          KOZHIKODE      2014       Whole Year  Coconut       1.001000e+09\n",
       "                               1999       Whole Year  Coconut       1.059000e+09\n",
       "                MALAPPURAM     2009       Whole Year  Coconut       1.063000e+09\n",
       "Tamil Nadu      COIMBATORE     2013       Whole Year  Coconut       1.212000e+09\n",
       "                               2011       Whole Year  Coconut       1.250800e+09\n",
       "Name: Production, Length: 168551, dtype: float64"
      ]
     },
     "execution_count": 12,
     "metadata": {},
     "output_type": "execute_result"
    }
   ],
   "source": [
    "# let's order the labels according to the mean target value\n",
    "X_train_Final.groupby(['State_Name', 'District_Name', 'Crop_Year', 'Season', 'Crop'])[ 'Production'].mean().sort_values()"
   ]
  },
  {
   "cell_type": "code",
   "execution_count": 13,
   "metadata": {},
   "outputs": [],
   "source": [
    "def find_category_mappings(df, variable, target):\n",
    "\n",
    "    # first  we generate an ordered list with the labels\n",
    "    ordered_labels = X_train_Final.groupby([variable])[target].mean().sort_values().index\n",
    "    # return the dictionary with mappings\n",
    "    return {k: i for i, k in enumerate(ordered_labels, 0)}\n",
    "def integer_encode(train, test, variable, ordinal_mapping):\n",
    "    X_train_Final[variable] = X_train_Final[variable].map(ordinal_mapping)\n",
    "    X_test_Final[variable] = X_test_Final[variable].map(ordinal_mapping)"
   ]
  },
  {
   "cell_type": "code",
   "execution_count": 14,
   "metadata": {},
   "outputs": [],
   "source": [
    "# and now we run a loop over the remaining categorical variables\n",
    "for variable in ['State_Name', 'District_Name', 'Crop_Year', 'Season', 'Crop', \n",
    "       'Production']:\n",
    "    mappings = find_category_mappings(X_train_Final, variable, 'Production')\n",
    "    integer_encode(X_train_Final, X_test_Final, variable, mappings)"
   ]
  },
  {
   "cell_type": "code",
   "execution_count": 15,
   "metadata": {},
   "outputs": [],
   "source": [
    "X_train_Final.drop(columns='Production', axis=1, inplace=True )\n",
    "X_test_Final.drop(columns='Production', axis=1, inplace=True )"
   ]
  },
  {
   "cell_type": "code",
   "execution_count": 16,
   "metadata": {},
   "outputs": [
    {
     "data": {
      "text/html": [
       "<div>\n",
       "<style scoped>\n",
       "    .dataframe tbody tr th:only-of-type {\n",
       "        vertical-align: middle;\n",
       "    }\n",
       "\n",
       "    .dataframe tbody tr th {\n",
       "        vertical-align: top;\n",
       "    }\n",
       "\n",
       "    .dataframe thead th {\n",
       "        text-align: right;\n",
       "    }\n",
       "</style>\n",
       "<table border=\"1\" class=\"dataframe\">\n",
       "  <thead>\n",
       "    <tr style=\"text-align: right;\">\n",
       "      <th></th>\n",
       "      <th>State_Name</th>\n",
       "      <th>District_Name</th>\n",
       "      <th>Crop_Year</th>\n",
       "      <th>Season</th>\n",
       "      <th>Crop</th>\n",
       "      <th>Area</th>\n",
       "    </tr>\n",
       "  </thead>\n",
       "  <tbody>\n",
       "    <tr>\n",
       "      <th>0</th>\n",
       "      <td>31</td>\n",
       "      <td>630</td>\n",
       "      <td>14</td>\n",
       "      <td>3</td>\n",
       "      <td>117</td>\n",
       "      <td>2.09</td>\n",
       "    </tr>\n",
       "    <tr>\n",
       "      <th>1</th>\n",
       "      <td>31</td>\n",
       "      <td>630</td>\n",
       "      <td>11</td>\n",
       "      <td>3</td>\n",
       "      <td>51</td>\n",
       "      <td>2.00</td>\n",
       "    </tr>\n",
       "    <tr>\n",
       "      <th>2</th>\n",
       "      <td>31</td>\n",
       "      <td>630</td>\n",
       "      <td>6</td>\n",
       "      <td>3</td>\n",
       "      <td>117</td>\n",
       "      <td>189.20</td>\n",
       "    </tr>\n",
       "    <tr>\n",
       "      <th>3</th>\n",
       "      <td>31</td>\n",
       "      <td>630</td>\n",
       "      <td>10</td>\n",
       "      <td>3</td>\n",
       "      <td>117</td>\n",
       "      <td>52.00</td>\n",
       "    </tr>\n",
       "    <tr>\n",
       "      <th>4</th>\n",
       "      <td>31</td>\n",
       "      <td>630</td>\n",
       "      <td>2</td>\n",
       "      <td>3</td>\n",
       "      <td>97</td>\n",
       "      <td>1254.00</td>\n",
       "    </tr>\n",
       "  </tbody>\n",
       "</table>\n",
       "</div>"
      ],
      "text/plain": [
       "   State_Name  District_Name  Crop_Year  Season  Crop     Area\n",
       "0          31            630         14       3   117     2.09\n",
       "1          31            630         11       3    51     2.00\n",
       "2          31            630          6       3   117   189.20\n",
       "3          31            630         10       3   117    52.00\n",
       "4          31            630          2       3    97  1254.00"
      ]
     },
     "execution_count": 16,
     "metadata": {},
     "output_type": "execute_result"
    }
   ],
   "source": [
    "X_train_Final.head()"
   ]
  },
  {
   "cell_type": "code",
   "execution_count": 17,
   "metadata": {},
   "outputs": [],
   "source": [
    "#from sklearn.preprocessing import MinMaxScaler\n",
    "#sc = MinMaxScaler()\n",
    "#X_train_Final = sc.fit_transform(X_train_Final)\n",
    "#X_test_Final = sc.transform(X_test_Final)"
   ]
  },
  {
   "cell_type": "code",
   "execution_count": 18,
   "metadata": {},
   "outputs": [
    {
     "data": {
      "text/plain": [
       "((168551, 6), (73850, 6), (168551, 1), (73850, 1))"
      ]
     },
     "execution_count": 18,
     "metadata": {},
     "output_type": "execute_result"
    }
   ],
   "source": [
    "X_train_Final.shape,X_test_Final.shape,y_train_Final.shape,y_test_Final.shape"
   ]
  },
  {
   "cell_type": "code",
   "execution_count": 19,
   "metadata": {},
   "outputs": [],
   "source": [
    "# Missing numerical data\n",
    "\n",
    "X_train_Final=pd.DataFrame(X_train_Final)\n",
    "for col in X_train_Final:\n",
    "    if X_train_Final[col].isnull().mean() > 0:\n",
    "        print(col, X_train_Final[col].isnull().mean())\n",
    "        "
   ]
  },
  {
   "cell_type": "code",
   "execution_count": 20,
   "metadata": {},
   "outputs": [
    {
     "name": "stdout",
     "output_type": "stream",
     "text": [
      "Crop 1.3540961408259987e-05\n"
     ]
    }
   ],
   "source": [
    "X_test_Final=pd.DataFrame(X_test_Final)\n",
    "for col in X_test_Final:\n",
    "    if X_test_Final[col].isnull().mean() > 0:\n",
    "        print(col, X_test_Final[col].isnull().mean())"
   ]
  },
  {
   "cell_type": "code",
   "execution_count": 21,
   "metadata": {},
   "outputs": [
    {
     "data": {
      "text/plain": [
       "((168551, 6), (73850, 6), (168551, 1), (73850, 1))"
      ]
     },
     "execution_count": 21,
     "metadata": {},
     "output_type": "execute_result"
    }
   ],
   "source": [
    "X_train_Final.shape,X_test_Final.shape,y_train_Final.shape,y_test_Final.shape"
   ]
  },
  {
   "cell_type": "code",
   "execution_count": 22,
   "metadata": {},
   "outputs": [],
   "source": [
    "from sklearn.impute import SimpleImputer\n",
    "imputer = SimpleImputer(missing_values=np.nan, strategy='median')\n",
    "imputer.fit(X_train_Final[[\"District_Name\" , \"Crop\"]])\n",
    "X_train_Final[[\"District_Name\" , \"Crop\"]] = imputer.transform(X_train_Final[[\"District_Name\" , \"Crop\"]])\n",
    "X_test_Final[[\"District_Name\" , \"Crop\"]] = imputer.transform(X_test_Final[[\"District_Name\" , \"Crop\"]])"
   ]
  },
  {
   "cell_type": "code",
   "execution_count": 23,
   "metadata": {},
   "outputs": [
    {
     "data": {
      "text/plain": [
       "((168551, 6), (73850, 6), (168551, 1), (73850, 1))"
      ]
     },
     "execution_count": 23,
     "metadata": {},
     "output_type": "execute_result"
    }
   ],
   "source": [
    "X_train_Final.shape,X_test_Final.shape,y_train_Final.shape,y_test_Final.shape"
   ]
  },
  {
   "cell_type": "code",
   "execution_count": 24,
   "metadata": {},
   "outputs": [],
   "source": [
    "y_train_Final=y_train_Final.values.ravel()\n",
    "y_test_Final=y_test_Final.values.ravel()"
   ]
  },
  {
   "cell_type": "code",
   "execution_count": 25,
   "metadata": {},
   "outputs": [
    {
     "name": "stdout",
     "output_type": "stream",
     "text": [
      "train r2: 0.9912120504735044\n",
      "test r2: 0.9669176639886472\n"
     ]
    }
   ],
   "source": [
    "from sklearn.model_selection import GridSearchCV\n",
    "from sklearn.ensemble import RandomForestRegressor\n",
    "RFRegression=Pipeline([\n",
    "('Decision',RandomForestRegressor(max_depth=2000, max_features= 'sqrt', n_estimators=200,bootstrap='True',\n",
    "                                  random_state =1,min_samples_split=2))\n",
    "])\n",
    "RFRegression.fit(X_train_Final,y_train_Final)\n",
    "#prediction\n",
    "X_train_pred=RFRegression.predict(X_train_Final)\n",
    "X_test_pred=RFRegression.predict(X_test_Final)\n",
    "print('train r2: {}'.format(r2_score(y_train_Final,X_train_pred)))\n",
    "\n",
    "print('test r2: {}'.format(r2_score(y_test_Final,X_test_pred)))\n"
   ]
  },
  {
   "cell_type": "code",
   "execution_count": 26,
   "metadata": {},
   "outputs": [],
   "source": [
    "pickle.dump(RFRegression,open('model.pkl','wb'))"
   ]
  },
  {
   "cell_type": "code",
   "execution_count": null,
   "metadata": {},
   "outputs": [],
   "source": [
    "model=pickle.load(open('model.pkl'))"
   ]
  }
 ],
 "metadata": {
  "kernelspec": {
   "display_name": "Python 3",
   "language": "python",
   "name": "python3"
  },
  "language_info": {
   "codemirror_mode": {
    "name": "ipython",
    "version": 3
   },
   "file_extension": ".py",
   "mimetype": "text/x-python",
   "name": "python",
   "nbconvert_exporter": "python",
   "pygments_lexer": "ipython3",
   "version": "3.8.5"
  }
 },
 "nbformat": 4,
 "nbformat_minor": 2
}
